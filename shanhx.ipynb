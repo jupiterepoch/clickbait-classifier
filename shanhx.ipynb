{
 "metadata": {
  "language_info": {
   "codemirror_mode": {
    "name": "ipython",
    "version": 3
   },
   "file_extension": ".py",
   "mimetype": "text/x-python",
   "name": "python",
   "nbconvert_exporter": "python",
   "pygments_lexer": "ipython3",
   "version": "3.7.10-final"
  },
  "orig_nbformat": 2,
  "kernelspec": {
   "name": "python3",
   "display_name": "Python 3.7.10 64-bit ('python37': conda)",
   "metadata": {
    "interpreter": {
     "hash": "febfd2498a27690ea729cad0848c2555221b5909e74542bca8f58a6c6972772c"
    }
   }
  }
 },
 "nbformat": 4,
 "nbformat_minor": 2,
 "cells": [
  {
   "cell_type": "code",
   "execution_count": 2,
   "metadata": {},
   "outputs": [
    {
     "output_type": "stream",
     "name": "stdout",
     "text": [
      "Getting 19538 valid examples from training set.\n"
     ]
    }
   ],
   "source": [
    "from main import Webis17\n",
    "\n",
    "web17 = Webis17('./data/clickbait17/')\n",
    "web17.build_corpus(size=19538)\n",
    "\n",
    "\n"
   ]
  },
  {
   "cell_type": "code",
   "execution_count": 22,
   "metadata": {
    "tags": []
   },
   "outputs": [
    {
     "output_type": "stream",
     "name": "stdout",
     "text": [
      "[[1.5000e+01 1.4783e+04]\n [3.0000e+00 4.7370e+03]]\n"
     ]
    },
    {
     "output_type": "execute_result",
     "data": {
      "text/plain": [
       "array([[1.5000e+01, 1.4783e+04],\n",
       "       [3.0000e+00, 4.7370e+03]])"
      ]
     },
     "metadata": {},
     "execution_count": 22
    }
   ],
   "source": [
    "# print ( web17.corpus[0] )\n",
    "import numpy as np\n",
    "\n",
    "def Feature_Tester( tester, data_web ):\n",
    "    counter = np.zeros( (2,2) )\n",
    "    for data_i in data_web:\n",
    "        ground = (int)(data_i[2] >= 0.5) \n",
    "        predict = (int)( tester(data_i[0],data_i[1]) )\n",
    "        counter[ground,predict] += 1\n",
    "    print ( counter )\n",
    "    return counter\n",
    "\n",
    "def tester_1( title, text ):\n",
    "    return len(title) > 10\n",
    "\n",
    "def tester_2( title, text ):\n",
    "\n",
    "    return len(title) > 10\n",
    "\n",
    "\n",
    "\n",
    "Feature_Tester(tester_1,web17.corpus)\n",
    "# print ( web17.corpus[:10][2] )\n"
   ]
  },
  {
   "cell_type": "code",
   "execution_count": 23,
   "metadata": {},
   "outputs": [],
   "source": [
    "# import torch\n",
    "# from torch import nn\n",
    "# from torch.nn.utils.rnn import pack_sequence\n",
    "# import time\n",
    "# from torch.utils.data import DataLoader, Dataset\n",
    "# import gc\n",
    "\n",
    "# class MyDataset(Dataset):\n",
    "#     def __init__(self, sen_1, sen_2, simi):\n",
    "#         self.data1 = torch.from_numpy( np.array(sen_1,dtype=np.float32) )\n",
    "#         self.data2 = torch.from_numpy( np.array(sen_2,dtype=np.float32) )\n",
    "#         self.labels = torch.Tensor(simi).type( torch.float32 )\n",
    "# #         print ( self.labels.size )\n",
    "    \n",
    "#     def __getitem__(self,index):\n",
    "#         sen_1 = self.data1[index] #  torch.DoubleTensor\n",
    "#         sen_2 = self.data2[index] # torch.DoubleTensor\n",
    "#         target = self.labels[index]\n",
    "#         return sen_1,sen_2,target\n",
    "    \n",
    "#     def __len__(self):\n",
    "#         return len(self.labels)\n",
    "\n",
    "\n",
    "# class NeuralNetwork(nn.Module):\n",
    "#     def __init__(self):\n",
    "#         super(NeuralNetwork, self).__init__()\n",
    "#         LSTM_hidden_size =  140\n",
    "#         LSTM_num_layers = 1\n",
    "#         emb_dim = cur_emb_dim\n",
    "#         self.LSTM = nn.LSTM(emb_dim,LSTM_hidden_size,LSTM_num_layers, batch_first=True)\n",
    "# #         self.dense1 = nn.Linear( LSTM_hidden_size,1 )  # set up first FC layer\n",
    "# #         self.dense2 = nn.Linear( LSTM_hidden_size,1 )  # set up the other FC layer\n",
    "# #         self.dense = nn.Linear( LSTM_hidden_size,1 )\n",
    "        \n",
    "#         Linear_hidden1_size = 40\n",
    "#         Linear_hidden2_size = 1\n",
    "        \n",
    "        \n",
    "#         self.linear1 = nn.Linear( LSTM_hidden_size,Linear_hidden1_size )\n",
    "#         self.sigmoid = nn.Tanh(  )\n",
    "#         self.batchnorm1 = nn.BatchNorm1d( max_length )\n",
    "# #         self.dropout = nn.Dropout(p=0.2)\n",
    "#         self.linear2 = nn.Linear( Linear_hidden1_size,Linear_hidden2_size )\n",
    "        \n",
    "#         self.cos_sim = nn.CosineSimilarity(dim=1, eps=1e-08)\n",
    "        \n",
    "#     def forward(self, input1, input2):\n",
    "#         lstm1_out, _ = self.LSTM(input1)\n",
    "#         lstm2_out, _ = self.LSTM(input2)\n",
    "#         x1 = self.linear1(lstm1_out)\n",
    "#         x1 = self.sigmoid(x1)\n",
    "# #         print ( x1.shape )\n",
    "#         x1 = self.batchnorm1(x1)\n",
    "# #         x1 = self.dropout(x1)\n",
    "#         x1 = self.linear2(x1).squeeze()\n",
    "\n",
    "        \n",
    "#         x2 = self.linear1(lstm2_out)\n",
    "#         x2 = self.sigmoid(x2)\n",
    "#         x2 = self.batchnorm1(x2)\n",
    "# #         x2 = self.dropout(x2)\n",
    "#         x2 = self.linear2(x2).squeeze()\n",
    "\n",
    "# #         x1 = self.dense(lstm1_out).squeeze()\n",
    "# #         x2 = self.dense(lstm2_out).squeeze()\n",
    "#         combined = self.cos_sim(x1,x2)\n",
    "#         out = 1 + 4*combined\n",
    "#         return out.type( torch.float32 )\n",
    "\n",
    "# def train(dataloader, model, loss_fn, optimizer):\n",
    "#     for batch, (X1, X2, y) in enumerate(dataloader):\n",
    "#         X1, X2, y = X1.to(device), X2.to(device), y.to(device)\n",
    "# #         if ( batch%3 == 0 ):\n",
    "# #             pred = model(X2,X1)\n",
    "# #         else:\n",
    "#         pred = model(X1,X2)\n",
    "#         loss = loss_fn(pred, y)\n",
    "#         optimizer.zero_grad()\n",
    "#         loss.backward()\n",
    "#         optimizer.step()\n",
    "#     return model"
   ]
  },
  {
   "cell_type": "code",
   "execution_count": 27,
   "metadata": {
    "tags": []
   },
   "outputs": [
    {
     "output_type": "stream",
     "name": "stdout",
     "text": [
      "Using cpu device\nNeuralNetwork(\n  (linear1): Linear(in_features=2, out_features=2, bias=True)\n  (active): Tanh()\n  (linear2): Linear(in_features=2, out_features=1, bias=True)\n)\n[0.13333333332, 1.0, 0.46666666663999995, 0.9333333333199999, 0.0, 0.06666666666, 0.33333333332, 0.06666666666, 0.33333333330000003, 0.13333333332]\nData Loaded\n"
     ]
    },
    {
     "output_type": "error",
     "ename": "NameError",
     "evalue": "name 'optimizer' is not defined",
     "traceback": [
      "\u001b[0;31m---------------------------------------------------------------------------\u001b[0m",
      "\u001b[0;31mNameError\u001b[0m                                 Traceback (most recent call last)",
      "\u001b[0;32m<ipython-input-27-465491703e93>\u001b[0m in \u001b[0;36m<module>\u001b[0;34m\u001b[0m\n\u001b[1;32m     77\u001b[0m \u001b[0;32mfor\u001b[0m \u001b[0mitr\u001b[0m \u001b[0;32min\u001b[0m \u001b[0mrange\u001b[0m\u001b[0;34m(\u001b[0m\u001b[0mepochs\u001b[0m\u001b[0;34m)\u001b[0m\u001b[0;34m:\u001b[0m\u001b[0;34m\u001b[0m\u001b[0;34m\u001b[0m\u001b[0m\n\u001b[1;32m     78\u001b[0m     \u001b[0mmodel\u001b[0m\u001b[0;34m.\u001b[0m\u001b[0mtrain\u001b[0m\u001b[0;34m(\u001b[0m\u001b[0;34m)\u001b[0m\u001b[0;34m\u001b[0m\u001b[0;34m\u001b[0m\u001b[0m\n\u001b[0;32m---> 79\u001b[0;31m     \u001b[0mmodel\u001b[0m \u001b[0;34m=\u001b[0m \u001b[0mtrain\u001b[0m\u001b[0;34m(\u001b[0m\u001b[0mtrain_dataloader\u001b[0m\u001b[0;34m,\u001b[0m \u001b[0mmodel\u001b[0m\u001b[0;34m,\u001b[0m \u001b[0mloss_fn\u001b[0m\u001b[0;34m,\u001b[0m \u001b[0moptimizer\u001b[0m\u001b[0;34m)\u001b[0m\u001b[0;34m\u001b[0m\u001b[0;34m\u001b[0m\u001b[0m\n\u001b[0m\u001b[1;32m     80\u001b[0m \u001b[0;34m\u001b[0m\u001b[0m\n\u001b[1;32m     81\u001b[0m \u001b[0;34m\u001b[0m\u001b[0m\n",
      "\u001b[0;31mNameError\u001b[0m: name 'optimizer' is not defined"
     ]
    }
   ],
   "source": [
    "import torch\n",
    "from torch import nn\n",
    "from torch.nn.utils.rnn import pack_sequence\n",
    "import time\n",
    "from torch.utils.data import DataLoader, Dataset\n",
    "import gc\n",
    "\n",
    "def ArrayWebis( web17_corpus , feature_generator):\n",
    "    features = []\n",
    "    labels = []\n",
    "    for twt in web17_corpus:\n",
    "        features.append( feature_generator(twt[0],twt[1]) )\n",
    "        labels.append( twt[2] )\n",
    "    return features, labels\n",
    "\n",
    "class MyDataset(Dataset):\n",
    "    def __init__(self, features, labels):\n",
    "        self.data = torch.from_numpy( np.array(features,dtype=np.float32) )\n",
    "        self.labels = torch.from_numpy( np.array(labels,dtype=np.float32) )\n",
    "    \n",
    "    def __getitem__(self,index):\n",
    "        feature = self.data[index]\n",
    "        label   = self.labels[index]\n",
    "        return feature, label\n",
    "    \n",
    "    def __len__(self):\n",
    "        return len(self.labels)\n",
    "\n",
    "\n",
    "class NeuralNetwork(nn.Module):\n",
    "    def __init__(self, feature_size):\n",
    "        super(NeuralNetwork, self).__init__()\n",
    "        Linear_hidden1_size = feature_size\n",
    "        self.linear1 = nn.Linear( feature_size,Linear_hidden1_size )\n",
    "        self.active = nn.Tanh( )\n",
    "        self.linear2 = nn.Linear( Linear_hidden1_size, 1 )\n",
    "        \n",
    "    def forward(self, feature, label):\n",
    "        x = self.linear1( feature )\n",
    "        x = self.active(x)\n",
    "        x = self.linear2(x)\n",
    "        return x.type( torch.float32 )\n",
    "\n",
    "def train(dataloader, model, loss_fn, optimizer):\n",
    "    for batch, (X, y) in enumerate(dataloader):\n",
    "        pred = model(X)\n",
    "        loss = loss_fn(pred, y)\n",
    "        optimizer.zero_grad()\n",
    "        loss.backward()\n",
    "        optimizer.step()\n",
    "    return model\n",
    "\n",
    "def feature_generator( title , text ):\n",
    "    return np.array( [len(title), len(text) ] )\n",
    "\n",
    "gc.collect()\n",
    "loss_fn = nn.MSELoss()\n",
    "optimizer = nn.Adam\n",
    "\n",
    "device = \"cuda\" if torch.cuda.is_available() else \"cpu\"\n",
    "print(\"Using {} device\".format(device))\n",
    "\n",
    "features, labels = ArrayWebis( web17.corpus , feature_generator)\n",
    "\n",
    "model = NeuralNetwork( len( features[0] ) ).to(device)\n",
    "print(model)\n",
    "\n",
    "loss_fn.to(device)\n",
    "\n",
    "print ( labels[:10] )\n",
    "batch_size = 150 #, shuffle=True \n",
    "train_dataloader = DataLoader( MyDataset(features,labels) ,batch_size=batch_size, shuffle=True) # Collate_fn\n",
    "\n",
    "print(\"Data Loaded\")\n",
    "\n",
    "model.train()\n",
    "epochs = 5\n",
    "max_score = 0\n",
    "for itr in range(epochs):\n",
    "    model.train()\n",
    "    model = train(train_dataloader, model, loss_fn, optimizer)\n",
    "\n",
    "\n",
    "def eval_model( model, X, y ):\n",
    "    model.eval()\n",
    "    pred_all = []\n",
    "    with torch.no_grad():\n",
    "        X = X.to(device)\n",
    "        y = y.to(device)\n",
    "        pred = model(X) # .cpu().numpy()\n",
    "    return stats.pearsonr( X , y )\n"
   ]
  },
  {
   "cell_type": "code",
   "execution_count": null,
   "metadata": {},
   "outputs": [],
   "source": []
  }
 ]
}