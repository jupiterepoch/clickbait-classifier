{
 "cells": [
  {
   "cell_type": "code",
   "execution_count": 1,
   "id": "universal-inflation",
   "metadata": {},
   "outputs": [],
   "source": [
    "import pickle"
   ]
  },
  {
   "cell_type": "code",
   "execution_count": 6,
   "id": "attractive-honor",
   "metadata": {},
   "outputs": [],
   "source": [
    "preds = pickle.load(open('predictions_12804.pkl', 'rb'))\n",
    "truths = pickle.load(open('labels_12804.pkl', 'rb'))"
   ]
  },
  {
   "cell_type": "code",
   "execution_count": 5,
   "id": "handy-alarm",
   "metadata": {},
   "outputs": [
    {
     "name": "stdout",
     "output_type": "stream",
     "text": [
      "12804.ipynb\tbaseline1.log.txt  labels_12804.pkl\r\n",
      "Untitled.ipynb\tkaggle.ipynb\t   predictions_12804.pkl\r\n"
     ]
    }
   ],
   "source": [
    "!ls"
   ]
  },
  {
   "cell_type": "code",
   "execution_count": 8,
   "id": "automatic-moses",
   "metadata": {},
   "outputs": [
    {
     "name": "stdout",
     "output_type": "stream",
     "text": [
      "The MSE loss of naive similarity model on first 12804 examples is 0.26924264283573146.\n"
     ]
    }
   ],
   "source": [
    "import torch\n",
    "import torch.nn as nn\n",
    "loss = nn.MSELoss()\n",
    "print(f'The MSE loss of naive similarity model on first {12804} examples is {loss(preds, truths)}.')    "
   ]
  },
  {
   "cell_type": "code",
   "execution_count": 9,
   "id": "black-crystal",
   "metadata": {},
   "outputs": [],
   "source": [
    "gt = truths > 0.5\n",
    "my = preds > 0.5"
   ]
  },
  {
   "cell_type": "code",
   "execution_count": 10,
   "id": "confidential-quantum",
   "metadata": {},
   "outputs": [
    {
     "data": {
      "text/plain": [
       "tensor(0.1664)"
      ]
     },
     "execution_count": 10,
     "metadata": {},
     "output_type": "execute_result"
    }
   ],
   "source": [
    "(gt == my).sum() / len(gt)"
   ]
  },
  {
   "cell_type": "code",
   "execution_count": 11,
   "id": "immune-resistance",
   "metadata": {},
   "outputs": [
    {
     "data": {
      "text/plain": [
       "tensor(2097)"
      ]
     },
     "execution_count": 11,
     "metadata": {},
     "output_type": "execute_result"
    }
   ],
   "source": [
    "(gt > 0.5).sum()"
   ]
  },
  {
   "cell_type": "code",
   "execution_count": 12,
   "id": "wired-breach",
   "metadata": {},
   "outputs": [
    {
     "data": {
      "text/plain": [
       "tensor(10707)"
      ]
     },
     "execution_count": 12,
     "metadata": {},
     "output_type": "execute_result"
    }
   ],
   "source": [
    "(gt < 0.5).sum()"
   ]
  },
  {
   "cell_type": "code",
   "execution_count": null,
   "id": "tutorial-affect",
   "metadata": {},
   "outputs": [],
   "source": []
  }
 ],
 "metadata": {
  "kernelspec": {
   "display_name": "Python 3",
   "language": "python",
   "name": "python3"
  },
  "language_info": {
   "codemirror_mode": {
    "name": "ipython",
    "version": 3
   },
   "file_extension": ".py",
   "mimetype": "text/x-python",
   "name": "python",
   "nbconvert_exporter": "python",
   "pygments_lexer": "ipython3",
   "version": "3.8.5"
  }
 },
 "nbformat": 4,
 "nbformat_minor": 5
}
